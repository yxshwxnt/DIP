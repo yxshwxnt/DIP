{
 "cells": [
  {
   "cell_type": "markdown",
   "metadata": {},
   "source": [
    "### AND"
   ]
  },
  {
   "cell_type": "code",
   "execution_count": null,
   "metadata": {},
   "outputs": [],
   "source": [
    "# Python program to illustrate\n",
    "# arithmetic operation of\n",
    "# bitwise AND of two images\n",
    "\t\n",
    "# organizing imports\n",
    "import cv2\n",
    "import numpy as np\n",
    "import matplotlib.pyplot as plt\n",
    "\n",
    "# path to input images are specified and\n",
    "# images are loaded with imread command\n",
    "img1 = cv2.imread('img1.jpg')\n",
    "img2 = cv2.imread('img1.jpg')\n",
    "\n",
    "# cv2.bitwise_and is applied over the\n",
    "# image inputs with applied parameters\n",
    "dest_and = cv2.bitwise_and(img2, img1, mask = None)\n",
    "\n",
    "# the window showing output image with the Bitwise AND operation on the input images\n",
    "# plt.imshow('Bitwise And', dest_and)\n",
    "plt.imshow(dest_and) \n",
    "plt.xticks([]),  plt.yticks([])\n",
    "\n",
    "# De-allocate any associated memory usage\n",
    "# if cv2.waitKey(0) & 0xff == 27:\n",
    "\t# cv2.destroyAllWindows()"
   ]
  },
  {
   "attachments": {},
   "cell_type": "markdown",
   "metadata": {},
   "source": [
    "### OR"
   ]
  },
  {
   "cell_type": "code",
   "execution_count": null,
   "metadata": {},
   "outputs": [],
   "source": [
    "# Python program to illustrate\n",
    "# arithmetic operation of\n",
    "# bitwise OR of two images\n",
    "\t\n",
    "# organizing imports\n",
    "import cv2\n",
    "import numpy as np\n",
    "\t\n",
    "# path to input images are specified and\n",
    "# images are loaded with imread command\n",
    "img1 = cv2.imread('input1.png')\n",
    "img2 = cv2.imread('input2.png')\n",
    "\n",
    "# cv2.bitwise_or is applied over the\n",
    "# image inputs with applied parameters\n",
    "dest_or = cv2.bitwise_or(img2, img1, mask = None)\n",
    "\n",
    "# the window showing output image\n",
    "# with the Bitwise OR operation\n",
    "# on the input images\n",
    "cv2.imshow('Bitwise OR', dest_or)\n",
    "\n",
    "# De-allocate any associated memory usage\n",
    "if cv2.waitKey(0) & 0xff == 27:\n",
    "\tcv2.destroyAllWindows()"
   ]
  },
  {
   "attachments": {},
   "cell_type": "markdown",
   "metadata": {},
   "source": [
    "### NOT"
   ]
  },
  {
   "cell_type": "code",
   "execution_count": null,
   "metadata": {},
   "outputs": [],
   "source": [
    "import cv2\n",
    "import numpy as np\n",
    "\t\n",
    "img1 = cv2.imread('input1.png')\n",
    "\n",
    "dest_not1 = cv2.bitwise_not(img1, mask = None)\n",
    "\n",
    "cv2.imshow('Bitwise NOT on image 1', dest_not1)\n",
    "\n",
    "if cv2.waitKey(0) & 0xff == 27:\n",
    "\tcv2.destroyAllWindows()\n"
   ]
  }
 ],
 "metadata": {
  "kernelspec": {
   "display_name": "Python 3",
   "language": "python",
   "name": "python3"
  },
  "language_info": {
   "codemirror_mode": {
    "name": "ipython",
    "version": 3
   },
   "file_extension": ".py",
   "mimetype": "text/x-python",
   "name": "python",
   "nbconvert_exporter": "python",
   "pygments_lexer": "ipython3",
   "version": "3.9.4"
  },
  "orig_nbformat": 4,
  "vscode": {
   "interpreter": {
    "hash": "683a1b76a09fee45f60aa0cdf72de54b3ff1c75471f95162915bbdfad417ed25"
   }
  }
 },
 "nbformat": 4,
 "nbformat_minor": 2
}
