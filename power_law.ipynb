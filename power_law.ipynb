{
 "cells": [
  {
   "attachments": {},
   "cell_type": "markdown",
   "metadata": {},
   "source": [
    "## Power Law"
   ]
  },
  {
   "cell_type": "code",
   "execution_count": null,
   "metadata": {},
   "outputs": [],
   "source": [
    "import cv2\n",
    "import numpy as np \n",
    "import matplotlib.pyplot as plt \n",
    "# Open the image.\n",
    "img = cv2.imread('bright.jpg')\n",
    "# Trying 4 gamma values.\n",
    "plt.subplot(2,2,1)\n",
    "plt.title('Orignal Image')\n",
    "plt.imshow(img) \n",
    "i=1\n",
    "for gamma in [0.1, 0.5, 1.2, 2.2]:\n",
    "\ti+=1\n",
    "\t# Apply gamma correction.\n",
    "\tgamma_corrected = np.array(255*(img / 255) ** gamma, dtype = 'uint8')\n",
    "\t# Save edited images.\n",
    "\tcv2.imwrite('gamma_transformed'+str(gamma)+'.jpg', gamma_corrected) \n",
    "\txyz=cv2.imread('gamma_transformed'+str(gamma)+'.jpg')\n",
    "\tplt.subplot(2,2,i) \n",
    "\tplt.title('Gamma='+str(gamma))\n",
    "\tplt.imshow(xyz)\n",
    "\n",
    "plt.show()"
   ]
  }
 ],
 "metadata": {
  "kernelspec": {
   "display_name": "Python 3",
   "language": "python",
   "name": "python3"
  },
  "language_info": {
   "name": "python",
   "version": "3.9.4 (tags/v3.9.4:1f2e308, Apr  6 2021, 13:40:21) [MSC v.1928 64 bit (AMD64)]"
  },
  "orig_nbformat": 4,
  "vscode": {
   "interpreter": {
    "hash": "683a1b76a09fee45f60aa0cdf72de54b3ff1c75471f95162915bbdfad417ed25"
   }
  }
 },
 "nbformat": 4,
 "nbformat_minor": 2
}
