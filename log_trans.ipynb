{
 "cells": [
  {
   "attachments": {},
   "cell_type": "markdown",
   "metadata": {},
   "source": [
    "## Log Transform"
   ]
  },
  {
   "cell_type": "code",
   "execution_count": null,
   "metadata": {},
   "outputs": [],
   "source": [
    "import cv2\n",
    "import numpy as np\n",
    "import matplotlib.pyplot as plt\n",
    "# Read an image\n",
    "image = cv2.imread('neg.jpg')\n",
    "# Apply log transformation method\n",
    "c = 255 / np.log(1 + np.max(image))\n",
    "log_image = c * (np.log(image + 1))\n",
    "# Specify the data type so that float value will be converted to int\n",
    "log_image = np.array(log_image, dtype = np.uint8)\n",
    "plt.imshow(cv2.cvtColor(log_image,cv2.COLOR_BGR2RGB))\n",
    "plt.show()"
   ]
  }
 ],
 "metadata": {
  "kernelspec": {
   "display_name": "Python 3",
   "language": "python",
   "name": "python3"
  },
  "language_info": {
   "name": "python",
   "version": "3.9.4 (tags/v3.9.4:1f2e308, Apr  6 2021, 13:40:21) [MSC v.1928 64 bit (AMD64)]"
  },
  "orig_nbformat": 4,
  "vscode": {
   "interpreter": {
    "hash": "683a1b76a09fee45f60aa0cdf72de54b3ff1c75471f95162915bbdfad417ed25"
   }
  }
 },
 "nbformat": 4,
 "nbformat_minor": 2
}
