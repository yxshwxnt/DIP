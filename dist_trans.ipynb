{
 "cells": [
  {
   "cell_type": "code",
   "execution_count": null,
   "metadata": {},
   "outputs": [],
   "source": [
    "from scipy.spatial.distance import cdist \n",
    "coord_data = [(25.056, -75.7226),\n",
    "          (25.7411, -79.1197),\n",
    "          (25.2897, -79.2294),\n",
    "          (25.6716, -79.3378)]  "
   ]
  },
  {
   "attachments": {},
   "cell_type": "markdown",
   "metadata": {},
   "source": [
    "### Euclidean"
   ]
  },
  {
   "cell_type": "code",
   "execution_count": null,
   "metadata": {},
   "outputs": [],
   "source": [
    "print('The Euclidean Matrix Transformation is:')\n",
    "X=cdist(coord_data,coord_data,'euclidean') \n",
    "print(X)"
   ]
  },
  {
   "attachments": {},
   "cell_type": "markdown",
   "metadata": {},
   "source": [
    "### Manhattan"
   ]
  },
  {
   "cell_type": "code",
   "execution_count": null,
   "metadata": {},
   "outputs": [],
   "source": [
    "print('The Manhattan Matrix Transformation is:')\n",
    "Y = cdist(coord_data, coord_data, 'cityblock')\n",
    "print(Y)   "
   ]
  },
  {
   "attachments": {},
   "cell_type": "markdown",
   "metadata": {},
   "source": [
    "### Chessboard"
   ]
  },
  {
   "cell_type": "code",
   "execution_count": null,
   "metadata": {},
   "outputs": [],
   "source": [
    "print('The Chessboard Matrix Transformation is:')\n",
    "Z = cdist(coord_data, coord_data, 'chebyshev') \n",
    "print(Z)"
   ]
  }
 ],
 "metadata": {
  "kernelspec": {
   "display_name": "Python 3",
   "language": "python",
   "name": "python3"
  },
  "language_info": {
   "name": "python",
   "version": "3.9.4 (tags/v3.9.4:1f2e308, Apr  6 2021, 13:40:21) [MSC v.1928 64 bit (AMD64)]"
  },
  "orig_nbformat": 4,
  "vscode": {
   "interpreter": {
    "hash": "683a1b76a09fee45f60aa0cdf72de54b3ff1c75471f95162915bbdfad417ed25"
   }
  }
 },
 "nbformat": 4,
 "nbformat_minor": 2
}
