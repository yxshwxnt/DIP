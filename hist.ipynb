{
 "cells": [
  {
   "cell_type": "markdown",
   "metadata": {},
   "source": [
    "## Histogram"
   ]
  },
  {
   "cell_type": "code",
   "execution_count": null,
   "metadata": {},
   "outputs": [],
   "source": [
    "import numpy as np\n",
    "import cv2\n",
    "from matplotlib import pyplot as plt \n",
    "\n",
    "brightimg = cv2.imread('bright.jpg')\n",
    "# find frequency of pixels in range 0-255\n",
    "bright = cv2.calcHist([brightimg],[0],None,[256],[0,256])\n",
    "# show the plotting graph of an image \n",
    "plt.subplot(2,2,1)  \n",
    "plt.imshow(cv2.cvtColor(brightimg,cv2.COLOR_BGR2RGB))\n",
    "plt.subplot(2,2,2)  \n",
    "plt.plot(bright) \n",
    "plt.title('Bright Image')\n",
    "\n",
    "plt.show()\n"
   ]
  },
  {
   "attachments": {},
   "cell_type": "markdown",
   "metadata": {},
   "source": [
    "### Statistics"
   ]
  },
  {
   "cell_type": "code",
   "execution_count": null,
   "metadata": {},
   "outputs": [],
   "source": [
    "mean_=np.mean(bright) \n",
    "median_=np.median(bright)\n",
    "mx=np.max(bright)\n",
    "mn=np.min(bright)\n",
    "vari=np.var(bright)\n",
    "stand_dev=np.std(bright)\n",
    "print(f'mean is: {mean_} and median is: {median_}')\n",
    "print(f'Max is: {mx} and Min is: {mn}')\n",
    "print(f'Variance is: {vari} and Std Dev is: {stand_dev}')"
   ]
  }
 ],
 "metadata": {
  "kernelspec": {
   "display_name": "Python 3",
   "language": "python",
   "name": "python3"
  },
  "language_info": {
   "codemirror_mode": {
    "name": "ipython",
    "version": 3
   },
   "file_extension": ".py",
   "mimetype": "text/x-python",
   "name": "python",
   "nbconvert_exporter": "python",
   "pygments_lexer": "ipython3",
   "version": "3.9.4"
  },
  "orig_nbformat": 4,
  "vscode": {
   "interpreter": {
    "hash": "683a1b76a09fee45f60aa0cdf72de54b3ff1c75471f95162915bbdfad417ed25"
   }
  }
 },
 "nbformat": 4,
 "nbformat_minor": 2
}
