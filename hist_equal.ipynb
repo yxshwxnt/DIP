{
 "cells": [
  {
   "attachments": {},
   "cell_type": "markdown",
   "metadata": {},
   "source": [
    "### Histogram Equalisation"
   ]
  },
  {
   "cell_type": "code",
   "execution_count": null,
   "metadata": {},
   "outputs": [],
   "source": [
    "import numpy as np\n",
    "import matplotlib\n",
    "import matplotlib.pyplot as plt\n",
    "from skimage import data\n",
    "from skimage.util import img_as_ubyte\n",
    "from skimage import exposure\n",
    "import skimage.morphology as morp\n",
    "from skimage.filters import rank \n",
    "img = img_as_ubyte(data.moon())\n",
    "img_global = exposure.equalize_hist(img)\n",
    "kernel = morp.disk(30)\n",
    "img_local = rank.equalize(img, kernel)\n",
    "fig, (ax_img, ax_global, ax_local) = plt.subplots(1, 3)\n",
    "ax_img.imshow(img, cmap=plt.cm.gray)\n",
    "ax_img.set_title('Low contrast image')\n",
    "ax_img.set_axis_off()\n",
    "ax_global.imshow(img_global, cmap=plt.cm.gray)\n",
    "ax_global.set_title('Global equalization')\n",
    "ax_global.set_axis_off()\n",
    "ax_local.imshow(img_local, cmap=plt.cm.gray)\n",
    "ax_local.set_title('Local equalization')\n",
    "ax_local.set_axis_off()"
   ]
  }
 ],
 "metadata": {
  "kernelspec": {
   "display_name": "Python 3",
   "language": "python",
   "name": "python3"
  },
  "language_info": {
   "name": "python",
   "version": "3.9.4 (tags/v3.9.4:1f2e308, Apr  6 2021, 13:40:21) [MSC v.1928 64 bit (AMD64)]"
  },
  "orig_nbformat": 4,
  "vscode": {
   "interpreter": {
    "hash": "683a1b76a09fee45f60aa0cdf72de54b3ff1c75471f95162915bbdfad417ed25"
   }
  }
 },
 "nbformat": 4,
 "nbformat_minor": 2
}
